{
 "cells": [
  {
   "cell_type": "markdown",
   "metadata": {},
   "source": [
    "# Guía 1 — Hello World AI con Python y la API de OpenAI\n",
    "Curso: **IA en el Aula — Nivel Avanzado**  \n",
    "Profesor: **Luis Daniel Benavides Navarro**  \n",
    "Estudiante: **Juan Esteban Medina Rivas**  \n",
    "Fecha: **22 de octubre de 2025**  \n",
    "\n",
    "Esta guía introduce los conceptos básicos para conectarse a un modelo de lenguaje de OpenAI utilizando Python. El objetivo es construir un entorno funcional, comprender la estructura de la API y ejecutar un ejemplo tipo “Hello World” con inteligencia artificial."
   ]
  }
 ],
 "metadata": {
  "kernelspec": {
   "display_name": "Python 3",
   "language": "python",
   "name": "python3"
  },
  "language_info": {
   "codemirror_mode": {
    "name": "ipython",
    "version": 3
   },
   "file_extension": ".py",
   "mimetype": "text/x-python",
   "name": "python",
   "nbconvert_exporter": "python",
   "pygments_lexer": "ipython3",
   "version": "3.11.0"
  }
 },
 "nbformat": 4,
 "nbformat_minor": 2
}
